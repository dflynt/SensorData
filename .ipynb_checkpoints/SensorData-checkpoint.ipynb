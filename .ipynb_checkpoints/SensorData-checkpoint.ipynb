{
 "cells": [
  {
   "cell_type": "code",
   "execution_count": 54,
   "metadata": {
    "scrolled": false
   },
   "outputs": [
    {
     "name": "stdout",
     "output_type": "stream",
     "text": [
      "Average GPS position:  35.77 -78.5 102.8\n",
      "Average Acceleration for X, Y, Z  0.016 0.120 -0.85\n",
      "Average Gyrometer placement:  -0.00 -0.00 0.000\n",
      "Average Magnetometer reading:  1.071 25.18 -57.2\n"
     ]
    },
    {
     "data": {
      "image/png": "[encoded data removed]",
      "text/plain": [
       "<Figure size 432x288 with 1 Axes>"
      ]
     },
     "metadata": {},
     "output_type": "display_data"
    },
    {
     "data": {
      "image/png": "[encoded data removed]",
      "text/plain": [
       "<Figure size 432x288 with 1 Axes>"
      ]
     },
     "metadata": {},
     "output_type": "display_data"
    }
   ],
   "source": [
    "import json\n",
    "import pandas\n",
    "import time\n",
    "import numpy\n",
    "import matplotlib\n",
    "import matplotlib.pyplot as plt\n",
    "from pprint import pprint\n",
    "\n",
    "memoryList = []\n",
    "compassList = []\n",
    "GPSList = []\n",
    "AccelList = []\n",
    "GyroList = []\n",
    "MagnetList = []\n",
    "\n",
    "def calcTripleAvg(valList):\n",
    "    sumx = 0.0\n",
    "    sumy = 0.0\n",
    "    sumz= 0.0\n",
    "    for x in range(0, len(valList)):\n",
    "        sumx = sumx + float(valList[x][0])\n",
    "        sumy = sumy + float(valList[x][1])\n",
    "        sumz = sumz + float(valList[x][2])\n",
    "    avgx = sumx / len(valList)\n",
    "    avgy = sumy / len(valList)\n",
    "    avgz = sumz / len(valList)\n",
    "    return [str(avgx)[:5], str(avgy)[:5], str(avgz)[:5]]\n",
    "\n",
    "    \n",
    "def printMemory(slot, index):\n",
    "    value = str(data['entries'][index]['data'][3]['displayValue']).split(\" \")\n",
    "    value = float(value[0])\n",
    "    memoryList.append(value)\n",
    "    \n",
    "def printCompass(slot, index):\n",
    "    #[:6] slices the string number and takes the first 6 characters\n",
    "    direction = str(data['entries'][i]['data'][0]['displayValue'][:6])\n",
    "    compassList.append(float(direction))\n",
    "\n",
    "def printGPS(slot, index):\n",
    "    location = [str(data['entries'][index]['data'][2]['displayValue'][:5]), \n",
    "                str(data['entries'][index]['data'][3]['displayValue'])[:5],\n",
    "                str(data['entries'][index]['data'][4]['displayValue'])[:5]]\n",
    "    GPSList.append(location)\n",
    "\n",
    "def printAccel_Gyro_Magneto(slot, index):\n",
    "    xyzVals = [str(data['entries'][index]['data'][0]['displayValue'][:5]),\n",
    "               str(data['entries'][index]['data'][1]['displayValue'][:5]),\n",
    "               str(data['entries'][index]['data'][2]['displayValue'][:5])]\n",
    "    \n",
    "    if data['entries'][i]['dataSource'] == \"Acceleration (total)\":\n",
    "        AccelList.append(xyzVals)\n",
    "    elif data['entries'][i]['dataSource'] == \"Gyrometer (smooth)\":\n",
    "        GyroList.append(xyzVals)\n",
    "    else:\n",
    "        MagnetList.append(xyzVals)\n",
    "        \n",
    "with open(\"data.json\") as json_data:\n",
    "    data = json.load(json_data)\n",
    "    for i in range(0, len(data['entries'])):\n",
    "        if data['entries'][i]['dataSource'] == \"Memory\":\n",
    "            printMemory(data['entries'][i], i)\n",
    "            #print(\"\\n\")\n",
    "\n",
    "        elif data['entries'][i]['dataSource'] == \"Compass\":\n",
    "            printCompass(data['entries'][i], i)\n",
    "            #print(\"\\n\")\n",
    "\n",
    "        elif data['entries'][i]['dataSource'] == \"GPS\":\n",
    "            printGPS(data['entries'][i], i)\n",
    "            #print(\"\\n\")\n",
    "\n",
    "        elif data['entries'][i]['dataSource'] == \"Acceleration (total)\":\n",
    "            #print(\"Acceleration: \")\n",
    "            printAccel_Gyro_Magneto(data['entries'][i], i)\n",
    "            #print(\"\\n\")\n",
    "\n",
    "        elif data['entries'][i]['dataSource'] == \"Gyrometer (smooth)\":\n",
    "            #print(\"Gyrometer: \")\n",
    "            printAccel_Gyro_Magneto(data['entries'][i], i)\n",
    "            #print(\"\\n\")\n",
    "\n",
    "        elif data['entries'][i]['dataSource'] == \"Magnetometer (corrected for device)\":\n",
    "            #print(\"Mangetometer: \")\n",
    "            printAccel_Gyro_Magneto(data['entries'][i], i)\n",
    "            #print(\"\\n\")\n",
    "\n",
    "import pandas as pd\n",
    "plot_df = pd.DataFrame({'Memory Usage': memoryList})\n",
    "plot_df.plot(kind='line')\n",
    "\n",
    "compass_df = pd.DataFrame({\"Compass Direction\": compassList})\n",
    "compass_df.plot(kind='hist')\n",
    "\n",
    "print(\"Average GPS position: \", end = \" \")\n",
    "print(\" \".join(calcTripleAvg(GPSList)))\n",
    "print(\"Average Acceleration for X, Y, Z \", end = \" \")\n",
    "print(\" \".join(calcTripleAvg(AccelList)))\n",
    "print(\"Average Gyrometer placement: \", end = \" \")\n",
    "print(\" \".join(calcTripleAvg(GyroList)))\n",
    "print(\"Average Magnetometer reading: \", end = \" \")\n",
    "print(\" \".join(calcTripleAvg(MagnetList)))\n",
    "\n"
   ]
  },
  {
   "cell_type": "code",
   "execution_count": null,
   "metadata": {},
   "outputs": [],
   "source": []
  },
  {
   "cell_type": "code",
   "execution_count": null,
   "metadata": {},
   "outputs": [],
   "source": []
  },
  {
   "cell_type": "code",
   "execution_count": null,
   "metadata": {},
   "outputs": [],
   "source": []
  }
 ],
 "metadata": {
  "kernelspec": {
   "display_name": "Python 3",
   "language": "python",
   "name": "python3"
  },
  "language_info": {
   "codemirror_mode": {
    "name": "ipython",
    "version": 3
   },
   "file_extension": ".py",
   "mimetype": "text/x-python",
   "name": "python",
   "nbconvert_exporter": "python",
   "pygments_lexer": "ipython3",
   "version": "3.6.4"
  }
 },
 "nbformat": 4,
 "nbformat_minor": 2
}
